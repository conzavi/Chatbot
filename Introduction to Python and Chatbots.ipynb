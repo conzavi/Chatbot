{
 "cells": [
  {
   "cell_type": "markdown",
   "metadata": {},
   "source": [
    "# Primer Chatbot"
   ]
  },
  {
   "cell_type": "code",
   "execution_count": 1,
   "metadata": {},
   "outputs": [],
   "source": [
    "import time"
   ]
  },
  {
   "cell_type": "code",
   "execution_count": 3,
   "metadata": {},
   "outputs": [
    {
     "name": "stdout",
     "output_type": "stream",
     "text": [
      "Welcome to Koma's first chatbot!\n",
      "I will repeat after you.\n",
      "Enter something for me to repeat: Hola\n",
      "You said: Hola\n"
     ]
    }
   ],
   "source": [
    "print(\"Welcome to Koma's first chatbot!\")\n",
    "time.sleep(2.5)\n",
    "print(\"I will repeat after you.\")\n",
    "time.sleep(2.5)\n",
    "stuff_to_echo = input(\"Enter something for me to repeat: \")\n",
    "time.sleep(2.5)\n",
    "print(\"You said: \" + stuff_to_echo)"
   ]
  },
  {
   "cell_type": "code",
   "execution_count": 4,
   "metadata": {},
   "outputs": [],
   "source": [
    "#These chatbots are in turn restricted to language that exists within the training data-retrieval-based models\n",
    "#chatbot responses are entirely predefined\n",
    "\n",
    "#statistical NLP models-retrieval-based model Next, there is the retrieval-based model, where chatbot responses are\n",
    "#pulled from an existing corpus of dialogs\n",
    "\n",
    "#LSTM-based seq2seq models-generative chatbots\n",
    "# capable of formulating their own original responses based on user input, rather than relying on existing text"
   ]
  },
  {
   "cell_type": "markdown",
   "metadata": {},
   "source": [
    "https://www.codecademy.com/learn/learn-python-3/modules/learn-python3-functions/reference"
   ]
  },
  {
   "cell_type": "markdown",
   "metadata": {},
   "source": [
    "# Funciones "
   ]
  },
  {
   "cell_type": "code",
   "execution_count": 7,
   "metadata": {},
   "outputs": [
    {
     "name": "stdout",
     "output_type": "stream",
     "text": [
      "Row Row Row Your Boat \n",
      "Row Row Row Your Boat \n",
      "Row Row Row Your Boat \n",
      "Row Row Row Your Boat \n",
      "Row Row Row Your Boat \n",
      "Row Row Row Your Boat \n",
      "Row Row Row Your Boat \n",
      "Row Row Row Your Boat \n",
      "Row Row Row Your Boat \n",
      "Row Row Row Your Boat \n",
      "\n"
     ]
    }
   ],
   "source": [
    "def repeat_stuff(stuff, num_repeats=10):\n",
    "    #print(stuff* num_repeats)\n",
    "    return(stuff* num_repeats)\n",
    "   \n",
    "lyrics = repeat_stuff(\"Row \", 3) + \"Your Boat \"+\"\\n\"\n",
    "song = repeat_stuff(lyrics)\n",
    "print(song)"
   ]
  },
  {
   "cell_type": "markdown",
   "metadata": {},
   "source": [
    "# Getting Ready for Physics Class"
   ]
  },
  {
   "cell_type": "code",
   "execution_count": 28,
   "metadata": {},
   "outputs": [
    {
     "name": "stdout",
     "output_type": "stream",
     "text": [
      "37.78 ºC\n"
     ]
    }
   ],
   "source": [
    "def f_to_c(f_temp):    \n",
    "    c_temp=(f_temp - 32)*5/9\n",
    "    return c_temp\n",
    "\n",
    "f100_in_celsius=f_to_c(100)\n",
    "print(str(round(f100_in_celsius,2))+\" ºC\")"
   ]
  },
  {
   "cell_type": "code",
   "execution_count": 29,
   "metadata": {},
   "outputs": [
    {
     "name": "stdout",
     "output_type": "stream",
     "text": [
      "32.0 F\n"
     ]
    }
   ],
   "source": [
    "def c_to_f(c_temp):\n",
    "    f_temp=c_temp*(9/5)+32\n",
    "    return f_temp\n",
    "c0_in_fahrenheit =c_to_f(0)\n",
    "print(str(round(c0_in_fahrenheit,2))+\" F\")"
   ]
  },
  {
   "cell_type": "code",
   "execution_count": 37,
   "metadata": {},
   "outputs": [
    {
     "name": "stdout",
     "output_type": "stream",
     "text": [
      "The GE train supplies 226800 Newtons of force.\n"
     ]
    }
   ],
   "source": [
    "def get_force(mass,acceleration):\n",
    "    return mass*acceleration\n",
    "\n",
    "train_mass = 22680\n",
    "train_acceleration = 10\n",
    "\n",
    "#print(str(get_force(train_mass,train_acceleration))+\" N\")\n",
    "print(\"The GE train supplies %d Newtons of force.\" % (get_force(train_mass,train_acceleration)))"
   ]
  },
  {
   "cell_type": "code",
   "execution_count": 42,
   "metadata": {},
   "outputs": [
    {
     "name": "stdout",
     "output_type": "stream",
     "text": [
      "A 1kg bomb supplies 90000000000000000 Joules\n"
     ]
    }
   ],
   "source": [
    "def get_energy(mass,c=3*10**8):\n",
    "    return mass*c**2\n",
    "\n",
    "bomb_mass = 1\n",
    "bomb_energy=get_energy(bomb_mass)\n",
    "#print(str(bomb_energy)+\" J\")\n",
    "print(\"A 1kg bomb supplies %d Joules\"% (get_energy(bomb_mass)))"
   ]
  },
  {
   "cell_type": "code",
   "execution_count": 46,
   "metadata": {},
   "outputs": [
    {
     "name": "stdout",
     "output_type": "stream",
     "text": [
      "The GE train does 22680000 Joules of work over 100 meters.\n"
     ]
    }
   ],
   "source": [
    "def get_work(mass,acceleration,distance):\n",
    "    force=get_force(mass,acceleration)\n",
    "    return force*distance\n",
    "train_mass = 22680\n",
    "train_acceleration = 10\n",
    "train_distance = 100\n",
    "\n",
    "train_work=get_work(train_mass, train_acceleration, train_distance)\n",
    "print(\"The GE train does %d Joules of work over %d meters.\"%(train_work,train_distance))"
   ]
  },
  {
   "cell_type": "code",
   "execution_count": 47,
   "metadata": {},
   "outputs": [],
   "source": [
    "#The variables mood and time can be accessed from inside the function, because they are defined globally."
   ]
  },
  {
   "cell_type": "markdown",
   "metadata": {},
   "source": [
    "# Control Flow"
   ]
  },
  {
   "cell_type": "code",
   "execution_count": 49,
   "metadata": {},
   "outputs": [],
   "source": [
    "#try and except statements can be used to build error control into your code."
   ]
  },
  {
   "cell_type": "code",
   "execution_count": 48,
   "metadata": {},
   "outputs": [],
   "source": [
    "def applicant_selector(gpa,ps_score,ec_count):\n",
    "    \n",
    "    if(gpa>=3 and ps_score>=90 and ec_count>=3):\n",
    "        \n",
    "        return \"This applicant should be accepted.\"\n",
    "\n",
    "    elif(gpa>=3 and ps_score>=90 and ec_count<3):\n",
    "        \n",
    "        return \"This applicant should be given an in-person interview.\"\n",
    "    else: \n",
    "        \n",
    "        return \"This applicant should be rejected.\""
   ]
  },
  {
   "cell_type": "markdown",
   "metadata": {},
   "source": [
    "# Sal's Shipping"
   ]
  },
  {
   "cell_type": "code",
   "execution_count": 54,
   "metadata": {},
   "outputs": [],
   "source": [
    "def ground_shipping(weight):\n",
    "    \n",
    "    if weight<=2:\n",
    "        return (weight*1.5+20)\n",
    "    elif 2<weight<=6:\n",
    "        return (weight*3+20)\n",
    "    elif 6<weight<10:\n",
    "        return (weight*4+20)\n",
    "    else:\n",
    "        return (weight*4.75+20)"
   ]
  },
  {
   "cell_type": "code",
   "execution_count": 55,
   "metadata": {},
   "outputs": [
    {
     "data": {
      "text/plain": [
       "53.6"
      ]
     },
     "execution_count": 55,
     "metadata": {},
     "output_type": "execute_result"
    }
   ],
   "source": [
    "ground_shipping(8.4)"
   ]
  },
  {
   "cell_type": "code",
   "execution_count": 56,
   "metadata": {},
   "outputs": [],
   "source": [
    "Premium_Ground=125"
   ]
  },
  {
   "cell_type": "code",
   "execution_count": 57,
   "metadata": {},
   "outputs": [],
   "source": [
    "def drone_shipping(weight):\n",
    "    \n",
    "    if weight<=2:\n",
    "        return (weight*4.5)\n",
    "    elif 2<weight<=6:\n",
    "        return (weight*9)\n",
    "    elif 6<weight<10:\n",
    "        return (weight*12)\n",
    "    else:\n",
    "        return (weight*14.25)"
   ]
  },
  {
   "cell_type": "code",
   "execution_count": 59,
   "metadata": {},
   "outputs": [
    {
     "data": {
      "text/plain": [
       "6.75"
      ]
     },
     "execution_count": 59,
     "metadata": {},
     "output_type": "execute_result"
    }
   ],
   "source": [
    "drone_shipping(1.5)"
   ]
  },
  {
   "cell_type": "code",
   "execution_count": 89,
   "metadata": {},
   "outputs": [],
   "source": [
    "import numpy as np\n",
    "def cheapest_shipping(weight):\n",
    "    \n",
    "    \n",
    "    a=[ground_shipping(weight),Premium_Ground,drone_shipping(weight)]\n",
    "    b=min(a)\n",
    "    b=round(b,2)\n",
    "    b=str(b)\n",
    "    c=np.argmin(a)\n",
    "    d=[\"ground shipping\", \"Premium Ground\",\"drone shipping\" ]\n",
    "  \n",
    "    print(\"You should ship using %s, it will cost $%s.\" %(d[c],b))\n",
    "    \n",
    "    "
   ]
  },
  {
   "cell_type": "code",
   "execution_count": 91,
   "metadata": {},
   "outputs": [
    {
     "name": "stdout",
     "output_type": "stream",
     "text": [
      "You should ship using ground shipping, it will cost $34.4.\n"
     ]
    }
   ],
   "source": [
    "cheapest_shipping(4.8)"
   ]
  },
  {
   "cell_type": "code",
   "execution_count": 92,
   "metadata": {},
   "outputs": [
    {
     "name": "stdout",
     "output_type": "stream",
     "text": [
      "You should ship using Premium Ground, it will cost $125.\n"
     ]
    }
   ],
   "source": [
    "cheapest_shipping(41.5)"
   ]
  },
  {
   "cell_type": "code",
   "execution_count": null,
   "metadata": {},
   "outputs": [],
   "source": []
  }
 ],
 "metadata": {
  "kernelspec": {
   "display_name": "Python 3",
   "language": "python",
   "name": "python3"
  },
  "language_info": {
   "codemirror_mode": {
    "name": "ipython",
    "version": 3
   },
   "file_extension": ".py",
   "mimetype": "text/x-python",
   "name": "python",
   "nbconvert_exporter": "python",
   "pygments_lexer": "ipython3",
   "version": "3.6.5"
  }
 },
 "nbformat": 4,
 "nbformat_minor": 2
}

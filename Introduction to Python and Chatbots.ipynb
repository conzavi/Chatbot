{
 "cells": [
  {
   "cell_type": "markdown",
   "metadata": {},
   "source": [
    "# Primer Chatbot"
   ]
  },
  {
   "cell_type": "code",
   "execution_count": 1,
   "metadata": {},
   "outputs": [],
   "source": [
    "import time"
   ]
  },
  {
   "cell_type": "code",
   "execution_count": 3,
   "metadata": {},
   "outputs": [
    {
     "name": "stdout",
     "output_type": "stream",
     "text": [
      "Welcome to Koma's first chatbot!\n",
      "I will repeat after you.\n",
      "Enter something for me to repeat: Hola\n",
      "You said: Hola\n"
     ]
    }
   ],
   "source": [
    "print(\"Welcome to Koma's first chatbot!\")\n",
    "time.sleep(2.5)\n",
    "print(\"I will repeat after you.\")\n",
    "time.sleep(2.5)\n",
    "stuff_to_echo = input(\"Enter something for me to repeat: \")\n",
    "time.sleep(2.5)\n",
    "print(\"You said: \" + stuff_to_echo)"
   ]
  },
  {
   "cell_type": "code",
   "execution_count": 4,
   "metadata": {},
   "outputs": [],
   "source": [
    "#These chatbots are in turn restricted to language that exists within the training data-retrieval-based models\n",
    "#chatbot responses are entirely predefined\n",
    "\n",
    "#statistical NLP models-retrieval-based model Next, there is the retrieval-based model, where chatbot responses are\n",
    "#pulled from an existing corpus of dialogs\n",
    "\n",
    "#LSTM-based seq2seq models-generative chatbots\n",
    "# capable of formulating their own original responses based on user input, rather than relying on existing text"
   ]
  },
  {
   "cell_type": "markdown",
   "metadata": {},
   "source": [
    "https://www.codecademy.com/learn/learn-python-3/modules/learn-python3-functions/reference"
   ]
  },
  {
   "cell_type": "markdown",
   "metadata": {},
   "source": [
    "# Funciones "
   ]
  },
  {
   "cell_type": "code",
   "execution_count": 7,
   "metadata": {},
   "outputs": [
    {
     "name": "stdout",
     "output_type": "stream",
     "text": [
      "Row Row Row Your Boat \n",
      "Row Row Row Your Boat \n",
      "Row Row Row Your Boat \n",
      "Row Row Row Your Boat \n",
      "Row Row Row Your Boat \n",
      "Row Row Row Your Boat \n",
      "Row Row Row Your Boat \n",
      "Row Row Row Your Boat \n",
      "Row Row Row Your Boat \n",
      "Row Row Row Your Boat \n",
      "\n"
     ]
    }
   ],
   "source": [
    "def repeat_stuff(stuff, num_repeats=10):\n",
    "    #print(stuff* num_repeats)\n",
    "    return(stuff* num_repeats)\n",
    "   \n",
    "lyrics = repeat_stuff(\"Row \", 3) + \"Your Boat \"+\"\\n\"\n",
    "song = repeat_stuff(lyrics)\n",
    "print(song)"
   ]
  },
  {
   "cell_type": "markdown",
   "metadata": {},
   "source": [
    "# Getting Ready for Physics Class"
   ]
  },
  {
   "cell_type": "code",
   "execution_count": 28,
   "metadata": {},
   "outputs": [
    {
     "name": "stdout",
     "output_type": "stream",
     "text": [
      "37.78 ºC\n"
     ]
    }
   ],
   "source": [
    "def f_to_c(f_temp):    \n",
    "    c_temp=(f_temp - 32)*5/9\n",
    "    return c_temp\n",
    "\n",
    "f100_in_celsius=f_to_c(100)\n",
    "print(str(round(f100_in_celsius,2))+\" ºC\")"
   ]
  },
  {
   "cell_type": "code",
   "execution_count": 29,
   "metadata": {},
   "outputs": [
    {
     "name": "stdout",
     "output_type": "stream",
     "text": [
      "32.0 F\n"
     ]
    }
   ],
   "source": [
    "def c_to_f(c_temp):\n",
    "    f_temp=c_temp*(9/5)+32\n",
    "    return f_temp\n",
    "c0_in_fahrenheit =c_to_f(0)\n",
    "print(str(round(c0_in_fahrenheit,2))+\" F\")"
   ]
  },
  {
   "cell_type": "code",
   "execution_count": 37,
   "metadata": {},
   "outputs": [
    {
     "name": "stdout",
     "output_type": "stream",
     "text": [
      "The GE train supplies 226800 Newtons of force.\n"
     ]
    }
   ],
   "source": [
    "def get_force(mass,acceleration):\n",
    "    return mass*acceleration\n",
    "\n",
    "train_mass = 22680\n",
    "train_acceleration = 10\n",
    "\n",
    "#print(str(get_force(train_mass,train_acceleration))+\" N\")\n",
    "print(\"The GE train supplies %d Newtons of force.\" % (get_force(train_mass,train_acceleration)))"
   ]
  },
  {
   "cell_type": "code",
   "execution_count": 42,
   "metadata": {},
   "outputs": [
    {
     "name": "stdout",
     "output_type": "stream",
     "text": [
      "A 1kg bomb supplies 90000000000000000 Joules\n"
     ]
    }
   ],
   "source": [
    "def get_energy(mass,c=3*10**8):\n",
    "    return mass*c**2\n",
    "\n",
    "bomb_mass = 1\n",
    "bomb_energy=get_energy(bomb_mass)\n",
    "#print(str(bomb_energy)+\" J\")\n",
    "print(\"A 1kg bomb supplies %d Joules\"% (get_energy(bomb_mass)))"
   ]
  },
  {
   "cell_type": "code",
   "execution_count": 46,
   "metadata": {},
   "outputs": [
    {
     "name": "stdout",
     "output_type": "stream",
     "text": [
      "The GE train does 22680000 Joules of work over 100 meters.\n"
     ]
    }
   ],
   "source": [
    "def get_work(mass,acceleration,distance):\n",
    "    force=get_force(mass,acceleration)\n",
    "    return force*distance\n",
    "train_mass = 22680\n",
    "train_acceleration = 10\n",
    "train_distance = 100\n",
    "\n",
    "train_work=get_work(train_mass, train_acceleration, train_distance)\n",
    "print(\"The GE train does %d Joules of work over %d meters.\"%(train_work,train_distance))"
   ]
  },
  {
   "cell_type": "code",
   "execution_count": 47,
   "metadata": {},
   "outputs": [],
   "source": [
    "#The variables mood and time can be accessed from inside the function, because they are defined globally."
   ]
  },
  {
   "cell_type": "markdown",
   "metadata": {},
   "source": [
    "# Control Flow"
   ]
  },
  {
   "cell_type": "code",
   "execution_count": 49,
   "metadata": {},
   "outputs": [],
   "source": [
    "#try and except statements can be used to build error control into your code."
   ]
  },
  {
   "cell_type": "code",
   "execution_count": 48,
   "metadata": {},
   "outputs": [],
   "source": [
    "def applicant_selector(gpa,ps_score,ec_count):\n",
    "    \n",
    "    if(gpa>=3 and ps_score>=90 and ec_count>=3):\n",
    "        \n",
    "        return \"This applicant should be accepted.\"\n",
    "\n",
    "    elif(gpa>=3 and ps_score>=90 and ec_count<3):\n",
    "        \n",
    "        return \"This applicant should be given an in-person interview.\"\n",
    "    else: \n",
    "        \n",
    "        return \"This applicant should be rejected.\""
   ]
  },
  {
   "cell_type": "markdown",
   "metadata": {},
   "source": [
    "# Sal's Shipping"
   ]
  },
  {
   "cell_type": "code",
   "execution_count": 54,
   "metadata": {},
   "outputs": [],
   "source": [
    "def ground_shipping(weight):\n",
    "    \n",
    "    if weight<=2:\n",
    "        return (weight*1.5+20)\n",
    "    elif 2<weight<=6:\n",
    "        return (weight*3+20)\n",
    "    elif 6<weight<10:\n",
    "        return (weight*4+20)\n",
    "    else:\n",
    "        return (weight*4.75+20)"
   ]
  },
  {
   "cell_type": "code",
   "execution_count": 55,
   "metadata": {},
   "outputs": [
    {
     "data": {
      "text/plain": [
       "53.6"
      ]
     },
     "execution_count": 55,
     "metadata": {},
     "output_type": "execute_result"
    }
   ],
   "source": [
    "ground_shipping(8.4)"
   ]
  },
  {
   "cell_type": "code",
   "execution_count": 56,
   "metadata": {},
   "outputs": [],
   "source": [
    "Premium_Ground=125"
   ]
  },
  {
   "cell_type": "code",
   "execution_count": 57,
   "metadata": {},
   "outputs": [],
   "source": [
    "def drone_shipping(weight):\n",
    "    \n",
    "    if weight<=2:\n",
    "        return (weight*4.5)\n",
    "    elif 2<weight<=6:\n",
    "        return (weight*9)\n",
    "    elif 6<weight<10:\n",
    "        return (weight*12)\n",
    "    else:\n",
    "        return (weight*14.25)"
   ]
  },
  {
   "cell_type": "code",
   "execution_count": 59,
   "metadata": {},
   "outputs": [
    {
     "data": {
      "text/plain": [
       "6.75"
      ]
     },
     "execution_count": 59,
     "metadata": {},
     "output_type": "execute_result"
    }
   ],
   "source": [
    "drone_shipping(1.5)"
   ]
  },
  {
   "cell_type": "code",
   "execution_count": 89,
   "metadata": {},
   "outputs": [],
   "source": [
    "import numpy as np\n",
    "def cheapest_shipping(weight):\n",
    "    \n",
    "    \n",
    "    a=[ground_shipping(weight),Premium_Ground,drone_shipping(weight)]\n",
    "    b=min(a)\n",
    "    b=round(b,2)\n",
    "    b=str(b)\n",
    "    c=np.argmin(a)\n",
    "    d=[\"ground shipping\", \"Premium Ground\",\"drone shipping\" ]\n",
    "  \n",
    "    print(\"You should ship using %s, it will cost $%s.\" %(d[c],b))\n",
    "    \n",
    "    "
   ]
  },
  {
   "cell_type": "code",
   "execution_count": 91,
   "metadata": {},
   "outputs": [
    {
     "name": "stdout",
     "output_type": "stream",
     "text": [
      "You should ship using ground shipping, it will cost $34.4.\n"
     ]
    }
   ],
   "source": [
    "cheapest_shipping(4.8)"
   ]
  },
  {
   "cell_type": "code",
   "execution_count": 92,
   "metadata": {},
   "outputs": [
    {
     "name": "stdout",
     "output_type": "stream",
     "text": [
      "You should ship using Premium Ground, it will cost $125.\n"
     ]
    }
   ],
   "source": [
    "cheapest_shipping(41.5)"
   ]
  },
  {
   "cell_type": "code",
   "execution_count": null,
   "metadata": {},
   "outputs": [],
   "source": [
    "def divide_two_numbers(x, y):\n",
    "    result = x / y\n",
    "    return result\n",
    "\n",
    "try:\n",
    "    result = divide_two_numbers(2,0)\n",
    "    print(result)\n",
    "except NameError:\n",
    "    print(\"A NameError occurred.\")\n",
    "except ValueError:\n",
    "    print(\"A ValueError occurred.\") \n",
    "except ZeroDivisionError:\n",
    "    print(\"A ZeroDivisionError occurred.\")"
   ]
  },
  {
   "cell_type": "markdown",
   "metadata": {},
   "source": [
    "# In Range"
   ]
  },
  {
   "cell_type": "code",
   "execution_count": 94,
   "metadata": {},
   "outputs": [],
   "source": [
    "def in_range(num,lower,upper):\n",
    "    \n",
    "    if num>=lower and num<=upper:\n",
    "        return True\n",
    "    else:\n",
    "        return False"
   ]
  },
  {
   "cell_type": "markdown",
   "metadata": {},
   "source": [
    "# Movie Review"
   ]
  },
  {
   "cell_type": "code",
   "execution_count": 95,
   "metadata": {},
   "outputs": [],
   "source": [
    "def movie_review(rating):\n",
    "    \n",
    "    if rating<=5:\n",
    "        return(\"Avoid at all costs!\")\n",
    "    if 5<rating<9:\n",
    "        return(\"This one was fun.\")\n",
    "    if rating>=9:\n",
    "        return(\"Outstanding!\")"
   ]
  },
  {
   "cell_type": "markdown",
   "metadata": {},
   "source": [
    "# Twice as Large"
   ]
  },
  {
   "cell_type": "code",
   "execution_count": 96,
   "metadata": {},
   "outputs": [],
   "source": [
    "def twice_as_large(num1, num2):\n",
    "    if num1>2*num2:\n",
    "        return True\n",
    "    else:\n",
    "        return False"
   ]
  },
  {
   "cell_type": "markdown",
   "metadata": {},
   "source": [
    "# Power"
   ]
  },
  {
   "cell_type": "code",
   "execution_count": null,
   "metadata": {},
   "outputs": [],
   "source": [
    "def large_power(base, exponent):\n",
    "    \n",
    "    if base**exponent>5000:\n",
    "        return True\n",
    "    else:\n",
    "        return False"
   ]
  },
  {
   "cell_type": "markdown",
   "metadata": {},
   "source": [
    "# Divisible By Ten"
   ]
  },
  {
   "cell_type": "code",
   "execution_count": null,
   "metadata": {},
   "outputs": [],
   "source": [
    "def divisible_by_ten(num):\n",
    "    \n",
    "    if num%10==0:\n",
    "        return True\n",
    "    else:\n",
    "        return False\n",
    "    "
   ]
  },
  {
   "cell_type": "markdown",
   "metadata": {},
   "source": [
    "# Max Number"
   ]
  },
  {
   "cell_type": "code",
   "execution_count": null,
   "metadata": {},
   "outputs": [],
   "source": [
    "def max_num(num1, num2, num3):\n",
    "        \n",
    "    if num1 > num2 and num1 > num3:\n",
    "        return num1\n",
    "    elif num2 > num1 and num2 > num3:\n",
    "        return num2\n",
    "    elif num3 > num1 and num3 > num2:\n",
    "        return num3\n",
    "    else:\n",
    "        return \"It's a tie!\"\n",
    "    "
   ]
  },
  {
   "cell_type": "markdown",
   "metadata": {},
   "source": [
    "# Over Budget"
   ]
  },
  {
   "cell_type": "code",
   "execution_count": null,
   "metadata": {},
   "outputs": [],
   "source": [
    "def over_budget(budget, food_bill, electricity_bill, internet_bill, rent):\n",
    "   \n",
    "    if budget<(food_bill+ electricity_bill+ internet_bill+ rent):\n",
    "        return(True)\n",
    "    else:\n",
    "        return False"
   ]
  },
  {
   "cell_type": "markdown",
   "metadata": {},
   "source": [
    "# Always False"
   ]
  },
  {
   "cell_type": "code",
   "execution_count": 102,
   "metadata": {},
   "outputs": [],
   "source": [
    "def always_false(num):\n",
    "    if num<num+1:\n",
    "        return False"
   ]
  },
  {
   "cell_type": "markdown",
   "metadata": {},
   "source": [
    "# Not Equal"
   ]
  },
  {
   "cell_type": "code",
   "execution_count": null,
   "metadata": {},
   "outputs": [],
   "source": [
    "def not_sum_to_ten(num1, num2):\n",
    "    \n",
    "    if num1+num2!=10:\n",
    "        return(True)\n",
    "    else:\n",
    "        return(False)"
   ]
  },
  {
   "cell_type": "markdown",
   "metadata": {},
   "source": [
    "# Same name"
   ]
  },
  {
   "cell_type": "code",
   "execution_count": 104,
   "metadata": {},
   "outputs": [],
   "source": [
    "def same_name(your_name, my_name):\n",
    "    if your_name==my_name:\n",
    "        return(True)\n",
    "    else:\n",
    "        return(False)"
   ]
  },
  {
   "cell_type": "markdown",
   "metadata": {},
   "source": [
    "# Coffee Bot"
   ]
  },
  {
   "cell_type": "code",
   "execution_count": 32,
   "metadata": {},
   "outputs": [],
   "source": [
    "def coffee_bot():\n",
    "    print(\"Welcome to the cafe!\")    \n",
    "    size=get_size()\n",
    "    #print(size)\n",
    "    drink_type=get_drink_type()\n",
    "    #print(drink_type)\n",
    "    print('Alright, that\\'s a {} {}!'.format(size, drink_type))\n",
    "    extra_options()\n",
    "    name = input('Can I get your name please? \\n> ')\n",
    "    print('Thanks, {}! Your drink will be ready shortly.'.format(name))\n",
    "    return()\n",
    "\n",
    "def get_size():\n",
    "    res = input('What size drink can I get for you? \\n[a] Small \\n[b] Medium \\n[c] Large \\n> ')\n",
    "\n",
    "    if res == 'a':\n",
    "        return 'Small'\n",
    "    elif res == 'b':\n",
    "        return 'Medium'\n",
    "    elif res == 'c':\n",
    "        return 'Large'\n",
    "    else:\n",
    "        print_message()\n",
    "        return get_size()\n",
    "\n",
    "def print_message():\n",
    "    print('I\\'m sorry, I did not understand your selection. Please enter the corresponding letter for your response.')\n",
    "\n",
    "\n",
    "def get_drink_type():\n",
    "    res = input('What type of drink would you like? \\n[a] Brewed Coffee \\n[b] Mocha \\n[c] Latte \\n> ')\n",
    "    if res == 'a':\n",
    "        return 'brewed coffee'\n",
    "    elif res == 'b':\n",
    "        return 'mocha'\n",
    "    elif res == 'c':\n",
    "        return order_latte()\n",
    "    else:\n",
    "        print_message()\n",
    "        return get_drink_type()\n",
    "   \n",
    "def order_latte():\n",
    "    res = input('And what kind of milk for your latte? \\n[a] 2% milk \\n[b] Non-fat milk \\n[c] Soy milk \\n> ')\n",
    "\n",
    "    if res == 'a':\n",
    "        return 'latte'\n",
    "    elif res == 'b':\n",
    "        return 'non-fat latte'\n",
    "    elif res == 'c':\n",
    "        return 'soy latte'\n",
    "    else:\n",
    "        print_message()\n",
    "    return order_latte()\n",
    "\n",
    "\n",
    "def extra_options():\n",
    "    res = input('Would you like a plastic cup or did you bring your own reusable cup? \\n[a] I\\'ll need a cup. \\n[b] Brought my own! \\n> ')\n",
    "\n",
    "    if res == 'a':\n",
    "        print('Okay, no problem! We\\'ll get you a plastic cup.')\n",
    "    elif res == 'b':\n",
    "        print('Great! We\\'ll fill up your reusable cup.')\n",
    "    else:\n",
    "        print_message()\n",
    "        return extra_options()"
   ]
  },
  {
   "cell_type": "code",
   "execution_count": 33,
   "metadata": {},
   "outputs": [
    {
     "name": "stdout",
     "output_type": "stream",
     "text": [
      "Welcome to the cafe!\n",
      "What size drink can I get for you? \n",
      "[a] Small \n",
      "[b] Medium \n",
      "[c] Large \n",
      "> a\n",
      "What type of drink would you like? \n",
      "[a] Brewed Coffee \n",
      "[b] Mocha \n",
      "[c] Latte \n",
      "> c\n",
      "And what kind of milk for your latte? \n",
      "[a] 2% milk \n",
      "[b] Non-fat milk \n",
      "[c] Soy milk \n",
      "> c\n",
      "Alright, that's a Small soy latte!\n",
      "Would you like a plastic cup or did you bring your own reusable cup? \n",
      "[a] I'll need a cup. \n",
      "[b] Brought my own! \n",
      "> a\n",
      "Okay, no problem! We'll get you a plastic cup.\n",
      "Can I get your name please? \n",
      "> Javier\n",
      "Thanks, Javier! Your drink will be ready shortly.\n"
     ]
    },
    {
     "data": {
      "text/plain": [
       "()"
      ]
     },
     "execution_count": 33,
     "metadata": {},
     "output_type": "execute_result"
    }
   ],
   "source": [
    "coffee_bot()"
   ]
  },
  {
   "cell_type": "markdown",
   "metadata": {},
   "source": [
    "# Len's Slice Pizza"
   ]
  },
  {
   "cell_type": "code",
   "execution_count": null,
   "metadata": {},
   "outputs": [],
   "source": [
    "toppings = [\"pepperoni\", \"pineapple\", \"cheese\", \"sausage\", \"olives\", \"anchovies\", \"mushrooms\"]\n",
    "prices = [2, 6, 1, 3, 2, 7, 2]\n",
    "num_pizzas=len(toppings)\n",
    "print(\"We sell \"+ str(num_pizzas)+ \" different kinds of pizza!\")\n",
    "pizzas=list(zip(prices,toppings))\n",
    "print(pizzas)\n",
    "pizzas.sort()\n",
    "cheapest_pizza=pizzas[0]\n",
    "priciest_pizza=pizzas[-1]\n",
    "three_cheapest=pizzas[:3]\n",
    "print(three_cheapest)\n",
    "num_two_dollar_slices=prices.count(2)"
   ]
  }
 ],
 "metadata": {
  "kernelspec": {
   "display_name": "Python 3",
   "language": "python",
   "name": "python3"
  },
  "language_info": {
   "codemirror_mode": {
    "name": "ipython",
    "version": 3
   },
   "file_extension": ".py",
   "mimetype": "text/x-python",
   "name": "python",
   "nbconvert_exporter": "python",
   "pygments_lexer": "ipython3",
   "version": "3.6.5"
  }
 },
 "nbformat": 4,
 "nbformat_minor": 2
}
